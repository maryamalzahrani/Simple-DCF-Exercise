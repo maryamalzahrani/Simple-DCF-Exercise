{
  "nbformat": 4,
  "nbformat_minor": 0,
  "metadata": {
    "colab": {
      "name": "Simple DCF Exercise.ipynb",
      "private_outputs": true,
      "provenance": [],
      "authorship_tag": "ABX9TyPMUVZcj07dnR80uLaduYYt",
      "include_colab_link": true
    },
    "kernelspec": {
      "name": "python3",
      "display_name": "Python 3"
    },
    "language_info": {
      "name": "python"
    }
  },
  "cells": [
    {
      "cell_type": "markdown",
      "metadata": {
        "id": "view-in-github",
        "colab_type": "text"
      },
      "source": [
        "<a href=\"https://colab.research.google.com/github/maryamalzahrani/Simple-DCF-Exercise/blob/main/Simple_DCF_Exercise.ipynb\" target=\"_parent\"><img src=\"https://colab.research.google.com/assets/colab-badge.svg\" alt=\"Open In Colab\"/></a>"
      ]
    },
    {
      "cell_type": "code",
      "metadata": {
        "id": "gaQA52ye2h8k"
      },
      "source": [
        "import pandas as pd\n",
        "import numpy as np"
      ],
      "execution_count": null,
      "outputs": []
    },
    {
      "cell_type": "code",
      "metadata": {
        "id": "cnBm4FES3wrB"
      },
      "source": [
        "df=pd.DataFrame\n",
        "revenue_growth_factor = 0.18\n",
        "EBITDA_margin_rate = 0.45\n",
        "tax_rate = - 0.21\n",
        "capital_expenditures_rate = - 0.03\n",
        "working_capital_increase_rate = - 0.06\n",
        "EDBITA_exit_multiple = 32.7\n",
        "discount_factor = 0.94\n",
        "\n",
        "index = pd.date_range('2021', periods=12, freq='Y')\n",
        "print(index)"
      ],
      "execution_count": null,
      "outputs": []
    },
    {
      "cell_type": "code",
      "metadata": {
        "id": "aaUA23Z33wuI"
      },
      "source": [
        "df = pd.DataFrame(columns = [ \"Revenue\" ,\"EBITDA\" ,\"Taxes\",\"Cap_Ex\" ,\"Work_Cap\" ,\"Cash_Flow\" ,\"Discount_Factor\" ,\"Present_Value_of_FCF\" ],\n",
        "                  index=pd.date_range(start ='2022',end ='2033', freq='Y').year)"
      ],
      "execution_count": null,
      "outputs": []
    },
    {
      "cell_type": "code",
      "metadata": {
        "id": "2Rttt2Zg3wzY"
      },
      "source": [
        "df=pd.DataFrame(index=index, columns=['revenue'])\n",
        "df"
      ],
      "execution_count": null,
      "outputs": []
    },
    {
      "cell_type": "code",
      "metadata": {
        "id": "yMdVVQv53w14"
      },
      "source": [
        "df['revenue'][0]=222\n",
        "df"
      ],
      "execution_count": null,
      "outputs": []
    },
    {
      "cell_type": "code",
      "metadata": {
        "id": "-rju1U9n3w4p"
      },
      "source": [
        "for i in range(1, len(df)):\n",
        "    df['revenue'][i] = df['revenue'][0] * (1 + revenue_growth_factor) ** (i)\n",
        "\n",
        "df"
      ],
      "execution_count": null,
      "outputs": []
    },
    {
      "cell_type": "code",
      "metadata": {
        "id": "z_ZvDMe63w7J"
      },
      "source": [
        "df['EBITDA'] = df.revenue * EBITDA_margin_rate\n",
        "df"
      ],
      "execution_count": null,
      "outputs": []
    },
    {
      "cell_type": "code",
      "metadata": {
        "id": "84x2qgGW3w94"
      },
      "source": [
        "\n",
        "df['taxes'] = df.EBITDA * tax_rate\n",
        "df"
      ],
      "execution_count": null,
      "outputs": []
    },
    {
      "cell_type": "code",
      "metadata": {
        "id": "-exX0uuB3xAY"
      },
      "source": [
        "\n",
        "df['capital_expenditures'] = df.revenue * capital_expenditures_rate\n",
        "df"
      ],
      "execution_count": null,
      "outputs": []
    },
    {
      "cell_type": "code",
      "metadata": {
        "id": "bkUodTBm3xDI"
      },
      "source": [
        "df['working_capital'] = df.revenue * working_capital_increase_rate\n",
        "df"
      ],
      "execution_count": null,
      "outputs": []
    },
    {
      "cell_type": "code",
      "metadata": {
        "id": "391u0WkJ3xFg"
      },
      "source": [
        "\n",
        "df['capital_expenditures'] = df.revenue * capital_expenditures_rate\n",
        "df"
      ],
      "execution_count": null,
      "outputs": []
    },
    {
      "cell_type": "code",
      "metadata": {
        "id": "fJ6jUduM7CIJ"
      },
      "source": [
        "df['EBITDA'] = df.revenue * EBITDA_margin_rate\n",
        "df"
      ],
      "execution_count": null,
      "outputs": []
    },
    {
      "cell_type": "code",
      "metadata": {
        "id": "3w9nklW-7CLY"
      },
      "source": [
        "df['cash_flow'] = df['EBITDA'] + df['taxes'] + df['capital_expenditures'] + df['working_capital']\n",
        "df"
      ],
      "execution_count": null,
      "outputs": []
    },
    {
      "cell_type": "code",
      "metadata": {
        "id": "eWLNLSrp7CVx"
      },
      "source": [
        "df['discount_factor'] = [(discount_factor ** i) for i in range(len(df))]\n",
        "df"
      ],
      "execution_count": null,
      "outputs": []
    },
    {
      "cell_type": "code",
      "metadata": {
        "id": "6OhNbtpY7Cah"
      },
      "source": [
        "\n",
        "df['Present_Value_of_Future_Cash_flow'] = df['cash_flow'] * df['discount_factor']\n",
        "df"
      ],
      "execution_count": null,
      "outputs": []
    },
    {
      "cell_type": "code",
      "metadata": {
        "id": "DyPQ4ZVC7V-J"
      },
      "source": [
        "index=pd.date_range('2021',periods=12,freq='Y')\n",
        "df = pd.DataFrame(index=index,columns=['revenue','EBITDA','Tax','Capital_Expenditures','Working_Capital','Cash_flow','Discount_factore','Present_Value_of_Future_Cash_Flow'],dtype='float64')\n",
        "df['revenue'][0] = 222.0  \n",
        "df"
      ],
      "execution_count": null,
      "outputs": []
    },
    {
      "cell_type": "code",
      "metadata": {
        "id": "imjpMf4B7WFx"
      },
      "source": [
        "Growth_Factor = 1.18\n",
        "Revenue=222\n",
        "for year in range(1, 12):\n",
        "    df['revenue'][year]= df['revenue'][year-1]*Growth_Factor\n",
        "    \n",
        "\n",
        "\n",
        "EBITDA=0.45\n",
        "Discount_rate=0.06\n",
        "Taxes = - 0.21\n",
        "Capital_Expenditures = -0.03\n",
        "Working_Capital_Increase =  - 0.06\n",
        "\n",
        "for year in range(0, 12):\n",
        "    df['EBITDA'][year] = df['revenue'][year]*EBITDA\n",
        "    df['Discount_factore'][year] = (1-Discount_rate)**year\n",
        "    df['Tax'][year]=df['EBITDA'][year]*Taxes\n",
        "    df['Capital_Expenditures'][year]=df['revenue'][year]*Capital_Expenditures\n",
        "    df['Working_Capital'][year]=df['revenue'][year]*Working_Capital_Increase\n",
        "    df['Cash_flow'][year]= df['EBITDA'][year]+ df['Tax'][year]+ df['Capital_Expenditures'][year]+df['Working_Capital'][year]\n",
        "    df['Present_Value_of_Future_Cash_Flow'][year]=df['Cash_flow'][year] * df['Discount_factore'][year]\n",
        "    \n",
        "df"
      ],
      "execution_count": null,
      "outputs": []
    },
    {
      "cell_type": "code",
      "metadata": {
        "id": "6rrPUHhO7WIx"
      },
      "source": [
        "last_EBITDA = df.EBITDA[-1]\n",
        "last_EBITDA"
      ],
      "execution_count": null,
      "outputs": []
    },
    {
      "cell_type": "code",
      "metadata": {
        "id": "lukxfZoD7WYA"
      },
      "source": [
        "#statement \n",
        "Our projected Present Value of Projected Future Cash Flows are: {present_value_of_projected_fcf:.2f}.\n",
        "\n",
        "We are providing revenue guidance in 2032 to be: {df.loc[\"2032\", \"revenue\"].values[0]:.2f}\n",
        "\n",
        "With an estimated EBITDA around: {df.loc[\"2032\", \"EBITDA\"][0]:.2f}.\n",
        "\n",
        "The terminal value a this time given a multiple of {EDBITA_exit_multiple:.2f} and the above EBITDA for 2030, would equal: {present_value_of_terminal_value:.2f}.\n",
        "\n"
      ],
      "execution_count": null,
      "outputs": []
    }
  ]
}